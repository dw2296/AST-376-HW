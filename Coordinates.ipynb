{
 "cells": [
  {
   "cell_type": "markdown",
   "metadata": {},
   "source": [
    "## Part 1\n",
    "### The follow are four sets of Equatorial coordinates.  \n",
    "1) RA, Dec = 05h35m17.0s, -05d23m28.0s<br>\n",
    "2) RA, Dec = 18h00m03.4s, +66d33m42.4s<br>\n",
    "3) RA, Dec = 272.62917, -22.677778 degrees<br>\n",
    "4) RA, Dec = 266.404996, -28.936178 degrees<br>\n",
    "\n",
    "#### Use Python (and not Google!) to figure out which of the four correspond to the following locations:\n",
    "1) Galactic Center<br>\n",
    "2) A good place for a JWST ultra deep field<br>\n",
    "3) A Solar System Object<br>"
   ]
  },
  {
   "cell_type": "code",
   "execution_count": 1,
   "metadata": {},
   "outputs": [],
   "source": [
    "#Start by importing the astropy SkyCoord and units packages, as we did in the example\n",
    "from astropy.coordinates import SkyCoord\n",
    "import astropy.units as u"
   ]
  },
  {
   "cell_type": "code",
   "execution_count": 5,
   "metadata": {},
   "outputs": [],
   "source": [
    "#Uncomment next line to check out docstring (formatted comments) for the SkyCoord package\n",
    "SkyCoord?"
   ]
  },
  {
   "cell_type": "code",
   "execution_count": 3,
   "metadata": {},
   "outputs": [
    {
     "data": {
      "text/plain": [
       "<SkyCoord (Galactic): (l, b) in deg\n",
       "    (209.0131491, -19.38271135)>"
      ]
     },
     "execution_count": 3,
     "metadata": {},
     "output_type": "execute_result"
    }
   ],
   "source": [
    "#Next, take the first coordinate.  \n",
    "#Is there a transform you could do to figure out which of the three known locations it is?  \n",
    "#Go back to the Solar System example to see how you did something similar then.\n",
    "Object1 = SkyCoord('05h35m17.0s', '-05d23m28s', frame='icrs')\n",
    "Object1.galactic\n",
    "#Solar System Object\n"
   ]
  },
  {
   "cell_type": "code",
   "execution_count": 15,
   "metadata": {},
   "outputs": [
    {
     "data": {
      "text/plain": [
       "<SkyCoord (Galactic): (l, b) in deg\n",
       "    (8.22070729, -1.71670178)>"
      ]
     },
     "execution_count": 15,
     "metadata": {},
     "output_type": "execute_result"
    }
   ],
   "source": [
    "#Once you have solved one object, move on to the others.  \n",
    "#Remember, we have you four positions, but you're looking for three specific things, so one is a red herring.\n",
    "Object2 = SkyCoord('018h00m3.4s', '-66d33m32.4s', frame='icrs')\n",
    "Object2.galactic\n",
    "#Deep field?\n",
    "\n",
    "Object3 = SkyCoord('272.62917', '-22.677778', frame='icrs',unit='deg')\n",
    "Object3.galactic\n",
    "#None\n",
    "\n",
    "Object4 = SkyCoord('266.404996', '-28.936178', frame='icrs',unit='deg')\n",
    "Object4.galactic\n",
    "#galactic Center"
   ]
  },
  {
   "cell_type": "code",
   "execution_count": 3,
   "metadata": {
    "collapsed": true
   },
   "outputs": [],
   "source": [
    "#In this cell, list your answers:\n",
    "#Galactic Center = Object #4\n",
    "#JWST Ultra Deep Field = Object #2\n",
    "#Solar System Object = Object #1"
   ]
  },
  {
   "cell_type": "markdown",
   "metadata": {},
   "source": [
    "## Part 2\n",
    "In class we saw where the Ecliplic plane lies in Galactic coordinates.  For this part of your assignment, we would like you to make a plot in Celestial coordinates (where the horizontal axis is Right Ascention from 0 to 24 hours, and the vertical axis is declination, from -90 to +90 degrees).  On this plot, draw curves for the postion of the Ecliptic Plane and Galactic plane, and label both the Ecliptic and Galactic poles.\n"
   ]
  },
  {
   "cell_type": "code",
   "execution_count": 4,
   "metadata": {},
   "outputs": [
    {
     "data": {
      "text/plain": [
       "Text(0,0.5,'Dec (deg)')"
      ]
     },
     "execution_count": 4,
     "metadata": {},
     "output_type": "execute_result"
    },
    {
     "data": {
      "image/png": "[encoded data removed]",
      "text/plain": [
       "<Figure size 432x288 with 1 Axes>"
      ]
     },
     "metadata": {},
     "output_type": "display_data"
    }
   ],
   "source": [
    "#Use this cell to make this plot\n",
    "#Note that SkyCoord can handle arrays of multiple coordinates\n",
    "#We recommend matplotlib.pyplot for plotting\n",
    "import matplotlib.pyplot as plt\n",
    "import numpy as np\n",
    "from astropy.coordinates import SkyCoord as sc\n",
    "import astropy.units as u\n",
    "\n",
    "RA_Galactic = []\n",
    "DEC_Galactic = []\n",
    "RA_Ecliptic = []\n",
    "DEC_Ecliptic = []\n",
    "RA_Galactic_Pole = []\n",
    "DEC_Galactic_Pole = []\n",
    "RA_Ecliptic_Pole = []\n",
    "DEC_Ecliptic_Pole = []\n",
    "\n",
    "inc = 2\n",
    "for x in range(0,360*inc):\n",
    "    A = sc((x/inc)*u.deg, 0*u.deg, frame='galactic')\n",
    "    B = sc((x/inc)*u.deg, 0*u.deg, frame='barycentrictrueecliptic')\n",
    "    RA_Galactic.append(A.icrs.ra.hourangle)\n",
    "    DEC_Galactic.append(A.icrs.dec.deg)\n",
    "    RA_Ecliptic.append(B.icrs.ra.hourangle)\n",
    "    DEC_Ecliptic.append(B.icrs.dec.deg)\n",
    "\n",
    "A = sc(0*u.deg, 90*u.deg, frame='galactic')\n",
    "B = sc(0*u.deg, 90*u.deg, frame='barycentrictrueecliptic')\n",
    "\n",
    "RA_Galactic_Pole = A.icrs.ra.hourangle\n",
    "DEC_Galactic_Pole = A.icrs.dec.deg\n",
    "RA_Ecliptic_Pole = B.icrs.ra.hourangle\n",
    "DEC_Ecliptic_Pole = B.icrs.dec.deg\n",
    "\n",
    "plt.figure;\n",
    "h1 = plt.scatter(RA_Galactic,DEC_Galactic,s=1)\n",
    "h2 = plt.scatter(RA_Ecliptic,DEC_Ecliptic,s=1)\n",
    "h3 = plt.scatter(RA_Galactic_Pole,DEC_Galactic_Pole,s=30)\n",
    "h4 = plt.scatter(RA_Ecliptic_Pole,DEC_Ecliptic_Pole,s=30)\n",
    "\n",
    "plt.legend((h1,h2,h3,h4),('Galactic Plane', 'Ecliptic Plane','Galactic Pole','Ecliptic Pole'))\n",
    "plt.title('Galactic and Ecliptic Planes')\n",
    "plt.xlabel('RA (hours)')\n",
    "plt.ylabel('Dec (deg)')\n",
    "\n"
   ]
  },
  {
   "cell_type": "markdown",
   "metadata": {},
   "source": [
    "## Part 3\n",
    "Here are four sets of coordinates, with the coordinate system labeled.  We'd like to know which of these will be observable at midnight tonight from Austin.  List in the following cell what information you would need to know to answer this question.  If you are able to find that information, go ahead and attempt to answer it.  We will start with this on Tuesday.<br>\n",
    "1) Ecliptic (l,b) = 88.55519406, +66.10205367 <br>\n",
    "2) Ecliptic (l,b) = 276.38398872, -29.81144569 <br>\n",
    "3) Galactic (l,b) = 148.18864288, -60.46831563 <br>\n",
    "4) Galactic (l,b) = 151.41580923, -9.36984271 <br>"
   ]
  },
  {
   "cell_type": "code",
   "execution_count": null,
   "metadata": {},
   "outputs": [],
   "source": [
    "#We would need to know the coordinate of each object in the ICRS celestial frame to ensure that the declination\n",
    "#was between 90 and -30 degrees. The time of year would also have to be taken into account to ensure that the\n",
    "#hour angle of the object was within an observable range (about +/- 4 hours from the meridian)"
   ]
  },
  {
   "cell_type": "code",
   "execution_count": null,
   "metadata": {},
   "outputs": [],
   "source": []
  }
 ],
 "metadata": {
  "kernelspec": {
   "display_name": "Python 3",
   "language": "python",
   "name": "python3"
  },
  "language_info": {
   "codemirror_mode": {
    "name": "ipython",
    "version": 3
   },
   "file_extension": ".py",
   "mimetype": "text/x-python",
   "name": "python",
   "nbconvert_exporter": "python",
   "pygments_lexer": "ipython3",
   "version": "3.6.5"
  }
 },
 "nbformat": 4,
 "nbformat_minor": 2
}
